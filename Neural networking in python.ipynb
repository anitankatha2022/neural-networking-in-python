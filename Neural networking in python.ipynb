{
 "cells": [
  {
   "cell_type": "code",
   "execution_count": 1,
   "id": "2e66339c",
   "metadata": {},
   "outputs": [],
   "source": [
    "import numpy as np"
   ]
  },
  {
   "cell_type": "code",
   "execution_count": 3,
   "id": "0fb39107",
   "metadata": {},
   "outputs": [
    {
     "data": {
      "text/plain": [
       "array([[0, 0],\n",
       "       [0, 1],\n",
       "       [1, 1],\n",
       "       [1, 0]])"
      ]
     },
     "execution_count": 3,
     "metadata": {},
     "output_type": "execute_result"
    }
   ],
   "source": [
    "#assign input values\n",
    "input_value=np.array([[0,0],[0,1],[1,1],[1,0]])\n",
    "input_value.shape\n",
    "input_value"
   ]
  },
  {
   "cell_type": "code",
   "execution_count": 4,
   "id": "a845706e",
   "metadata": {},
   "outputs": [
    {
     "data": {
      "text/plain": [
       "(4, 1)"
      ]
     },
     "execution_count": 4,
     "metadata": {},
     "output_type": "execute_result"
    }
   ],
   "source": [
    "#assign the output values\n",
    "output=np.array([0,1,1,0])\n",
    "output=output.reshape(4,1)\n",
    "output.shape"
   ]
  },
  {
   "cell_type": "code",
   "execution_count": 5,
   "id": "e2c6a951",
   "metadata": {},
   "outputs": [
    {
     "data": {
      "text/plain": [
       "array([[0.1],\n",
       "       [0.2]])"
      ]
     },
     "execution_count": 5,
     "metadata": {},
     "output_type": "execute_result"
    }
   ],
   "source": [
    "#assign weights\n",
    "weights=np.array([[0.1],[0.2]])\n",
    "weights"
   ]
  },
  {
   "cell_type": "code",
   "execution_count": 6,
   "id": "5ef08516",
   "metadata": {},
   "outputs": [],
   "source": [
    "#add bias\n",
    "bias=0.3"
   ]
  },
  {
   "cell_type": "code",
   "execution_count": 10,
   "id": "f52cc92e",
   "metadata": {},
   "outputs": [],
   "source": [
    "#activation function\n",
    "def sigmoid_func(x):\n",
    "    return 1/(1+np.exp(-x))"
   ]
  },
  {
   "cell_type": "code",
   "execution_count": 11,
   "id": "f621a168",
   "metadata": {},
   "outputs": [],
   "source": [
    "#derivative of sigmoid function\n",
    "def der(x):\n",
    "    return sigmoid_func(x)*(1-sigmoid_func(x))"
   ]
  },
  {
   "cell_type": "code",
   "execution_count": 16,
   "id": "51ff75f0",
   "metadata": {},
   "outputs": [
    {
     "name": "stdout",
     "output_type": "stream",
     "text": [
      "[[ -1.23053867]\n",
      " [252.07148732]]\n",
      "[-250.77722698]\n"
     ]
    }
   ],
   "source": [
    "#updating weights\n",
    "for epochs in range(10000):\n",
    "    input_arr=input_value\n",
    "    weighted_sum=np.dot(input_arr,weights)+bias\n",
    "    first_output=sigmoid_func(weighted_sum)\n",
    "    error=first_output-output\n",
    "    total_error=np.square(np.subtract(first_output,output)).mean()\n",
    "    #print(total_error)\n",
    "    first_der=error\n",
    "    second_der=der(first_output)\n",
    "    derivative=first_der+second_der\n",
    "    t_input=input_value.T\n",
    "    final_derivative=np.dot(t_input,derivative)\n",
    "    #update weights\n",
    "    weights=weights-0.05*final_derivative\n",
    "    #update bias\n",
    "    for i in derivative:\n",
    "        bias=bias-0.05*i\n",
    "print(weights)\n",
    "print(bias)"
   ]
  },
  {
   "cell_type": "code",
   "execution_count": 22,
   "id": "7e656777",
   "metadata": {},
   "outputs": [
    {
     "name": "stdout",
     "output_type": "stream",
     "text": [
      "[0.78486742]\n"
     ]
    }
   ],
   "source": [
    "#prediction\n",
    "pred=np.array([0,1])\n",
    "result=np.dot(pred,weights)+bias\n",
    "res=sigmoid_func(result)\n",
    "print(res)"
   ]
  },
  {
   "cell_type": "code",
   "execution_count": null,
   "id": "aff8a372",
   "metadata": {},
   "outputs": [],
   "source": []
  }
 ],
 "metadata": {
  "kernelspec": {
   "display_name": "Python 3 (ipykernel)",
   "language": "python",
   "name": "python3"
  },
  "language_info": {
   "codemirror_mode": {
    "name": "ipython",
    "version": 3
   },
   "file_extension": ".py",
   "mimetype": "text/x-python",
   "name": "python",
   "nbconvert_exporter": "python",
   "pygments_lexer": "ipython3",
   "version": "3.9.12"
  }
 },
 "nbformat": 4,
 "nbformat_minor": 5
}
